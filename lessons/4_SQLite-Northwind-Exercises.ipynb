{
 "cells": [
  {
   "cell_type": "markdown",
   "id": "1a1ab6cf-c65f-4c47-9984-c0609baca104",
   "metadata": {},
   "source": [
    "# SQLite in Python: Northwind Database Exercises\n",
    "\n",
    "<div class=\"alert alert-success\">  \n",
    "\n",
    "## Learning Objectives\n",
    "\n",
    "- Have basic understanding of SQL syntax (e.g., `SELECT`, `FROM`, `WHERE` clauses).\n",
    "- Write SQL queries to select, filter, and sort data.\n",
    "- Perform complex joins between tables to retrieve related data.\n",
    "- Use aggregate functions to summarize data.\n",
    "</div>\n",
    "\n",
    "\n",
    "### Icons Used in This Notebook\n",
    "🔔 **Question**: A quick question to help you understand what's going on.<br>\n",
    "🥊 **Challenge**: Interactive exercise. We'll work through these in the workshop!<br>\n",
    "💡 **Tip:** How to do something a bit more efficiently or effectively.<br>\n",
    "⚠️ **Warning:** Heads-up about tricky stuff or common mistakes.<br>\n",
    "\n",
    "For the exercises below, you can find the [Solutions for Northwind SQLite Exercises here](../solutions/SQL-Northwind-Lesson-Exercises.ipynb)."
   ]
  },
  {
   "cell_type": "markdown",
   "id": "9f2d482e-8601-4e07-a427-a152a1c90f03",
   "metadata": {},
   "source": [
    "### Sections\n",
    "1. [Basic SELECT Queries](#ex1)\n",
    "2. [Filtering Data with WHERE Clause](#ex2)\n",
    "3. [Sorting Data with ORDER BY](#ex3)\n",
    "4. [Joining Tables](#ex4)\n",
    "5. [Aggregate Functions and GROUP BY](#ex5)\n",
    "6. [Advanced Joins and Subqueries](#ex6)\n",
    "7. [Using Views](#ex7)\n",
    "8. [Modifying Data](#ex8)"
   ]
  },
  {
   "cell_type": "markdown",
   "id": "15538170-3fb9-436f-8f6b-364c1f75ad79",
   "metadata": {},
   "source": [
    "## Prerequisite Setup\n",
    "\n",
    "To enable the `%%sql` Python Magic in the code cells below, run these two setup steps to:\n",
    "1. Load the SQL Jupyter Notebook extension\n",
    "2. Open the SQLite database to allow this notebook to access it."
   ]
  },
  {
   "cell_type": "code",
   "execution_count": null,
   "id": "27d5a0c7-25ed-4672-ad91-44ccaabbb0de",
   "metadata": {},
   "outputs": [],
   "source": [
    "%load_ext sql"
   ]
  },
  {
   "cell_type": "code",
   "execution_count": null,
   "id": "aa540a95-fd06-4c35-b57d-8ac94ecdf33a",
   "metadata": {},
   "outputs": [],
   "source": [
    "%sql sqlite:///data/northwind.db"
   ]
  },
  {
   "cell_type": "markdown",
   "id": "65e61f5d-0659-4a72-981a-6a434f613783",
   "metadata": {},
   "source": [
    "<a id='ex1'></a>\n",
    "### Exercise 1: Basic SELECT Queries\n",
    "\n",
    "**Objective:** Practice retrieving data using `SELECT` statements."
   ]
  },
  {
   "cell_type": "code",
   "execution_count": null,
   "id": "3d1b11e4-f2fc-4b0e-92b3-47e894133ec1",
   "metadata": {},
   "outputs": [],
   "source": [
    "%%sql -- List all records from the `Customers` table.\n",
    "SELECT * FROM Customers;"
   ]
  },
  {
   "cell_type": "code",
   "execution_count": null,
   "id": "c3c94eff-084a-4ad7-bec4-70757dbe045a",
   "metadata": {},
   "outputs": [],
   "source": [
    "%%sql -- Retrieve the `ProductName` and `UnitPrice` from the `Products` table.\n",
    "SELECT ProductName, UnitPrice FROM Products;"
   ]
  },
  {
   "cell_type": "code",
   "execution_count": null,
   "id": "08379877-ed47-43a6-9650-e7e8c63dbef9",
   "metadata": {},
   "outputs": [],
   "source": [
    "%%sql -- Display the `FirstName` and `LastName` of all employees.\n",
    "SELECT FirstName, LastName FROM Employees;"
   ]
  },
  {
   "cell_type": "markdown",
   "id": "c3053840-5093-4bee-9ad6-f6cee166560d",
   "metadata": {},
   "source": [
    "#### 🥊 Challenge 1.1\n",
    "What is the `CompanyName` of the customer with `CustomerID` 'ALFKI'?"
   ]
  },
  {
   "cell_type": "code",
   "execution_count": null,
   "id": "a440dfba-ccb5-4c0d-b90c-7f6bb50c79cf",
   "metadata": {},
   "outputs": [],
   "source": [
    "%%sql\n",
    "SELECT "
   ]
  },
  {
   "cell_type": "markdown",
   "id": "fe50c160-ea00-47e1-a7d2-8f5e6b5ba3ec",
   "metadata": {},
   "source": [
    "#### 🥊 Challenge 1\n",
    ".2\n",
    "How many products are listed in the `Products` table?"
   ]
  },
  {
   "cell_type": "code",
   "execution_count": null,
   "id": "4e50aef1-0fe1-4f4b-aa5b-df430d668dde",
   "metadata": {},
   "outputs": [],
   "source": [
    "%%sql\n",
    "SELECT "
   ]
  },
  {
   "cell_type": "code",
   "execution_count": null,
   "id": "99cd7ad4-e224-48df-8d5d-2b3d40e61653",
   "metadata": {},
   "outputs": [],
   "source": []
  },
  {
   "cell_type": "markdown",
   "id": "abfdb371-d352-48bc-b9cb-6fe72ee7c81f",
   "metadata": {},
   "source": [
    "<a id='ex2'></a>\n",
    "### Exercise 2: Filtering Data with WHERE Clause\n",
    "\n",
    "**Objective:** Use the `WHERE` clause to filter query results."
   ]
  },
  {
   "cell_type": "code",
   "execution_count": null,
   "id": "00386545-6ed8-4fe9-9a46-6ec41536aeee",
   "metadata": {},
   "outputs": [],
   "source": [
    "%%sql -- Find all customers located in Germany.\n",
    "SELECT * FROM Customers WHERE Country = 'Germany';"
   ]
  },
  {
   "cell_type": "code",
   "execution_count": null,
   "id": "bb283366-662c-43b8-a53d-831380e9f1a4",
   "metadata": {},
   "outputs": [],
   "source": [
    "%%sql -- List products that are out of stock (`UnitsInStock` = 0).\n",
    "SELECT * FROM Products WHERE UnitsInStock = 0"
   ]
  },
  {
   "cell_type": "code",
   "execution_count": null,
   "id": "3659e7a0-ab2f-4e99-9485-ee8e5bef52a0",
   "metadata": {},
   "outputs": [],
   "source": [
    "%%sql -- Retrieve orders placed after January 1, 2018\n",
    "SELECT * FROM Orders WHERE OrderDate > '2018-01-01';"
   ]
  },
  {
   "cell_type": "markdown",
   "id": "91027113-88c4-4652-b164-2caaa8c5be32",
   "metadata": {},
   "source": [
    "#### 🥊 Challenge 2.1\n",
    "How many suppliers are from the USA?"
   ]
  },
  {
   "cell_type": "code",
   "execution_count": null,
   "id": "96a8341d-cd4b-4d69-a412-93ca412efd6b",
   "metadata": {},
   "outputs": [],
   "source": [
    "%%sql\n",
    "SELECT "
   ]
  },
  {
   "cell_type": "markdown",
   "id": "341411fc-6425-4d60-8b4f-6c22f7553364",
   "metadata": {},
   "source": [
    "#### 🥊 Challenge 2.2\n",
    "Which employees have the title \"Sales Representative\"?"
   ]
  },
  {
   "cell_type": "code",
   "execution_count": null,
   "id": "0bb9173c-b9f8-4707-b598-d295a23db451",
   "metadata": {},
   "outputs": [],
   "source": [
    "%%sql\n",
    "SELECT "
   ]
  },
  {
   "cell_type": "markdown",
   "id": "b3ddbdd9-dc46-4cf4-bc34-876fd55ba1d7",
   "metadata": {},
   "source": [
    "<a id='ex3'></a>\n",
    "### Exercise 3: Sorting Data with ORDER BY\n",
    "\n",
    "**Objective:** Learn how to sort query results."
   ]
  },
  {
   "cell_type": "code",
   "execution_count": null,
   "id": "51ad87cd-199a-4e7f-bde4-4e3594992dd3",
   "metadata": {},
   "outputs": [],
   "source": [
    "%%sql -- Display all products sorted by `UnitPrice` in descending order.\n",
    "SELECT * FROM Products ORDER BY UnitPrice DESC;"
   ]
  },
  {
   "cell_type": "code",
   "execution_count": null,
   "id": "e3df7368-e8d0-49ea-8cd2-9419cac348ac",
   "metadata": {},
   "outputs": [],
   "source": [
    "%%sql -- List customers sorted by `CompanyName` alphabetically.\n",
    "SELECT *\n",
    "FROM Customers\n",
    "ORDER BY CompanyName ASC;"
   ]
  },
  {
   "cell_type": "code",
   "execution_count": null,
   "id": "eead7a42-9aed-466e-a847-c2d15df4c14a",
   "metadata": {},
   "outputs": [],
   "source": [
    "%%sql -- Retrieve the top 5 most expensive products.\n",
    "SELECT ProductName, UnitPrice\n",
    "FROM Products\n",
    "ORDER BY UnitPrice DESC\n",
    "LIMIT 5;"
   ]
  },
  {
   "cell_type": "markdown",
   "id": "654841c4-5575-4e81-b241-f9be4d5cad73",
   "metadata": {},
   "source": [
    "#### 🥊 Challenge 3.1\n",
    "What is the cheapest product available?"
   ]
  },
  {
   "cell_type": "code",
   "execution_count": null,
   "id": "7df05ad5-5a19-47c7-b0c7-6018691e0e96",
   "metadata": {},
   "outputs": [],
   "source": [
    "%%sql\n",
    "SELECT "
   ]
  },
  {
   "cell_type": "markdown",
   "id": "b91a7b8a-2c03-47a9-834f-b27f78df6942",
   "metadata": {},
   "source": [
    "#### 🥊 Challenge 3.2\n",
    "Which customer comes first when sorted by `CompanyName`?"
   ]
  },
  {
   "cell_type": "code",
   "execution_count": null,
   "id": "76a26e7a-d893-4686-bf51-643ccd0ab4f1",
   "metadata": {},
   "outputs": [],
   "source": [
    "%%sql\n",
    "SELECT "
   ]
  },
  {
   "cell_type": "markdown",
   "id": "4bea2a7d-5823-4ff6-bc05-4b0c87b8e9e0",
   "metadata": {},
   "source": [
    "<a id='ex4'></a>\n",
    "### Exercise 4: Joining Tables\n",
    "\n",
    "**Objective:** Combine data from multiple tables using joins.\n",
    "\n",
    "Review these resources:\n",
    " - <a href=\"https://medium.com/swlh/the-best-visual-to-explain-sql-joins-612b95c81555\">The Best Visual To Explain SQL JOINs | by Junji Zhi | The Startup | Medium</a>\n",
    " - <a href=\"https://blog.codinghorror.com/a-visual-explanation-of-sql-joins/\">A Visual Explanation of SQL Joins</a>\n",
    " - <a href=\"https://www.atlassian.com/data/sql/sql-join-types-explained-visually\">Visualizing SQL Joins | Atlassian</a>"
   ]
  },
  {
   "cell_type": "code",
   "execution_count": null,
   "id": "6d32b473-5cfd-4927-bd03-670901c7e1bb",
   "metadata": {},
   "outputs": [],
   "source": [
    "%%sql -- List all orders along with the `CompanyName` of the customer who placed each order.\n",
    "SELECT Orders.OrderID, Customers.CompanyName\n",
    "FROM Orders\n",
    "INNER JOIN Customers ON Orders.CustomerID = Customers.CustomerID;"
   ]
  },
  {
   "cell_type": "markdown",
   "id": "9287e70b-6a53-4682-8a43-e755b482f415",
   "metadata": {},
   "source": [
    "#### 🥊 Challenge 4.1\n",
    "How many orders has each customer placed?"
   ]
  },
  {
   "cell_type": "code",
   "execution_count": null,
   "id": "8f5b3cd2-d1af-4fe3-9c05-8bd002f5cf09",
   "metadata": {},
   "outputs": [],
   "source": [
    "%%sql\n",
    "SELECT "
   ]
  },
  {
   "cell_type": "markdown",
   "id": "e96424c7-9e48-40f6-8f03-bef8f00191e3",
   "metadata": {},
   "source": [
    "#### 🥊 Challenge 4.2\n",
    "Which products are supplied by \"Exotic Liquids\"?"
   ]
  },
  {
   "cell_type": "code",
   "execution_count": null,
   "id": "d2dbfd4f-2107-4a6b-a2ab-cddb255b0087",
   "metadata": {},
   "outputs": [],
   "source": [
    "%%sql\n",
    "SELECT "
   ]
  },
  {
   "cell_type": "markdown",
   "id": "c6af1111-6e08-4625-8f51-fdcbbee2f81d",
   "metadata": {},
   "source": [
    "<a id='ex5'></a>\n",
    "### Exercise 5: Aggregate Functions and GROUP BY\n",
    "\n",
    "**Objective:** Use aggregate functions to summarize data."
   ]
  },
  {
   "cell_type": "code",
   "execution_count": null,
   "id": "e49cac8d-cdf3-4e2d-baa8-6686f525e825",
   "metadata": {},
   "outputs": [],
   "source": [
    "%%sql -- Calculate the total number of orders.\n",
    "    SELECT COUNT(*) AS TotalOrders FROM Orders;"
   ]
  },
  {
   "cell_type": "code",
   "execution_count": null,
   "id": "fad21a05-07bb-4fa6-b3f9-cee5a0f188f5",
   "metadata": {},
   "outputs": [],
   "source": [
    "%%sql -- Determine the number of customers in each country.\n",
    "SELECT Country, COUNT(*) AS NumberOfCustomers\n",
    "FROM Customers\n",
    "GROUP BY Country;"
   ]
  },
  {
   "cell_type": "markdown",
   "id": "a066d20e-1670-47c2-8c3b-e1363e5601b2",
   "metadata": {},
   "source": [
    "#### 🥊 Challenge 5.1\n",
    "Which country has the most customers?"
   ]
  },
  {
   "cell_type": "code",
   "execution_count": null,
   "id": "e2ea9837-26fc-4a9a-80d4-d4303efe1c1e",
   "metadata": {},
   "outputs": [],
   "source": [
    "%%sql\n",
    "SELECT "
   ]
  },
  {
   "cell_type": "markdown",
   "id": "f8d678c7-69ed-40f7-8bec-35cd0d3c70ea",
   "metadata": {},
   "source": [
    "#### 🥊 Challenge 5.2\n",
    "What is the total revenue generated from all orders? \n",
    "\n",
    "💡 **Tip:** You'll need to join `OrderDetails` and `Orders` tables and use `SUM`.\n",
    "\n",
    "⚠️ **Warning:** There is no `OrderDetails` table, but there is an `Order Details` table."
   ]
  },
  {
   "cell_type": "code",
   "execution_count": null,
   "id": "5235dc35-415b-424d-8ed8-f46c0439db39",
   "metadata": {},
   "outputs": [],
   "source": [
    "%%sql\n",
    "SELECT "
   ]
  },
  {
   "cell_type": "markdown",
   "id": "92f18575-6b60-4e35-af83-819429cc872f",
   "metadata": {},
   "source": [
    "<a id='ex6'></a>\n",
    "### Exercise 6: Advanced Joins and Subqueries\n",
    "\n",
    "**Objective:** Solve complex queries using advanced SQL techniques."
   ]
  },
  {
   "cell_type": "code",
   "execution_count": null,
   "id": "d0ee7627-5c93-45bb-a41d-8b956f71264c",
   "metadata": {},
   "outputs": [],
   "source": [
    "%%sql -- List employees and the total number of orders they have processed.\n",
    "SELECT Employees.LastName, COUNT(Orders.OrderID) AS NumberOfOrders\n",
    "FROM Employees\n",
    "LEFT JOIN Orders ON Employees.EmployeeID = Orders.EmployeeID\n",
    "GROUP BY Employees.LastName;"
   ]
  },
  {
   "cell_type": "markdown",
   "id": "e98ffe43-d603-4dbc-8f58-c82e1324adaf",
   "metadata": {},
   "source": [
    "#### 🥊 Challenge 6.1\n",
    "Which employee has processed the most orders?"
   ]
  },
  {
   "cell_type": "code",
   "execution_count": null,
   "id": "36019480-caba-4195-92b0-cd56edec3409",
   "metadata": {},
   "outputs": [],
   "source": [
    "%%sql\n",
    "SELECT "
   ]
  },
  {
   "cell_type": "markdown",
   "id": "9c2def34-21d1-4dae-be50-d90eeded4aa7",
   "metadata": {},
   "source": [
    "#### 🥊 Challenge 6.2\n",
    "Are there any products supplied by multiple suppliers?"
   ]
  },
  {
   "cell_type": "code",
   "execution_count": null,
   "id": "a4b00d6d-3190-43c2-a144-43ec2324fae9",
   "metadata": {},
   "outputs": [],
   "source": [
    "%%sql\n",
    "SELECT "
   ]
  },
  {
   "cell_type": "markdown",
   "id": "ad9adaa0-916e-486b-8e61-ed160797a5e6",
   "metadata": {},
   "source": [
    "<a id='ex7'></a>\n",
    "### Exercise 7: Using Views\n",
    "\n",
    "**Objective:** Understand and create SQL views for recurring queries."
   ]
  },
  {
   "cell_type": "code",
   "execution_count": null,
   "id": "ac0cab61-81a8-4c21-b2f5-3f554c9ccfb0",
   "metadata": {},
   "outputs": [],
   "source": [
    "%%sql -- Create a view that lists the `ProductName`, `CategoryName`, and `SupplierName` for all products.\n",
    "    CREATE VIEW ProductDetails AS\n",
    "    SELECT Products.ProductName, Categories.CategoryName, Suppliers.CompanyName AS SupplierName\n",
    "    FROM Products\n",
    "    INNER JOIN Categories ON Products.CategoryID = Categories.CategoryID\n",
    "    INNER JOIN Suppliers ON Products.SupplierID = Suppliers.SupplierID;\n"
   ]
  },
  {
   "cell_type": "code",
   "execution_count": null,
   "id": "24692772-57a7-4860-a0e7-a18d25d64f13",
   "metadata": {},
   "outputs": [],
   "source": [
    "%%sql -- Query the `ProductDetails` view to find all products in the \"Beverages\" category.\n",
    "SELECT * from ProductDetails"
   ]
  },
  {
   "cell_type": "code",
   "execution_count": null,
   "id": "6831c530-c13d-4e7e-8535-1b4d55100c93",
   "metadata": {},
   "outputs": [],
   "source": []
  },
  {
   "cell_type": "markdown",
   "id": "4cd08117-fcb9-4b7d-a265-d57d7514529b",
   "metadata": {},
   "source": [
    "#### 🔔 Question 7.1\n",
    "What are the benefits of using views in SQL?"
   ]
  },
  {
   "cell_type": "markdown",
   "id": "c2632962-8d87-4013-8a33-1d3872197c09",
   "metadata": {},
   "source": [
    "#### 🔔 Question 7.2\n",
    "Can you update data through a view?"
   ]
  },
  {
   "cell_type": "markdown",
   "id": "67451463-4a2c-4d39-9f37-153bf9dde39c",
   "metadata": {},
   "source": [
    "<a id='ex8'></a>\n",
    "### Exercise 8: Modifying Data (Caution Advised)\n",
    "\n",
    "**Objective:** Practice inserting, updating, and deleting data.\n",
    "\n",
    "⚠️ **Warning:** The code in this section will permanently modify the underlying database.\n",
    "\n",
    "**Tasks:**\n",
    "  - **Insert:** Add a new customer to the `Customers` table.\n",
    "    ```sql\n",
    "    INSERT INTO Customers (CustomerID, CompanyName, ContactName, Country)\n",
    "    VALUES ('NEWID', 'New Company', 'John Doe', 'USA');\n",
    "    ```\n",
    "  - **Update:** Change the `ContactTitle` of 'John Doe' to 'Sales Manager'.\n",
    "    ```sql\n",
    "    UPDATE Customers\n",
    "    SET ContactTitle = 'Sales Manager'\n",
    "    WHERE CustomerID = 'NEWID';\n",
    "    ```\n",
    "  - **Delete:** Remove a discontinued product from the `Products` table.\n",
    "    ```sql\n",
    "    DELETE FROM Products\n",
    "    WHERE Discontinued = 1;\n",
    "    ```\n",
    "- **Caution:** These changes are permanent in your local database. Consider making a backup before performing these operations."
   ]
  },
  {
   "cell_type": "markdown",
   "id": "afe4dd34-97db-473d-bc07-cacffe9399e4",
   "metadata": {},
   "source": [
    "<a id='resources'></a>\n",
    "## Additional Resources\n",
    "\n",
    "- **SQLite Documentation:** [https://www.sqlite.org/docs.html](https://www.sqlite.org/docs.html)\n",
    "- **SQLite Command Line Reference:** [https://www.sqlite.org/cli.html](https://www.sqlite.org/cli.html)\n",
    "- **SQL Tutorial Cheatsheet:** [https://www.sqltutorial.org/sql-cheat-sheet/](https://www.sqltutorial.org/sql-cheat-sheet/)\n",
    "- **SQLite Browser Wiki:** [SQLite Browser GitHub Wiki](https://github.com/sqlitebrowser/sqlitebrowser/wiki)\n",
    "- **Northwind SQLite Repo:** [Github Repo](https://github.com/jpwhite3/northwind-SQLite3/)\n",
    "- **Northwind Database Schema:** [Schema Diagram](https://github.com/jpwhite3/northwind-SQLite3/blob/main/docs/Northwind_ERD.png)"
   ]
  },
  {
   "cell_type": "code",
   "execution_count": null,
   "id": "e0d1a7af-0cd3-49bf-acd2-d4919a3ba37b",
   "metadata": {},
   "outputs": [],
   "source": []
  }
 ],
 "metadata": {
  "kernelspec": {
   "display_name": "Python 3 (ipykernel)",
   "language": "python",
   "name": "python3"
  },
  "language_info": {
   "codemirror_mode": {
    "name": "ipython",
    "version": 3
   },
   "file_extension": ".py",
   "mimetype": "text/x-python",
   "name": "python",
   "nbconvert_exporter": "python",
   "pygments_lexer": "ipython3",
   "version": "3.11.7"
  }
 },
 "nbformat": 4,
 "nbformat_minor": 5
}
