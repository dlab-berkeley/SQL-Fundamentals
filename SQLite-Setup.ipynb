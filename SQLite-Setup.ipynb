{
 "cells": [
  {
   "cell_type": "markdown",
   "id": "193c6046-ab41-49bd-a052-0fa88e94d8ee",
   "metadata": {},
   "source": [
    "---\n",
    "\n",
    "## SQLite Jupyter Notebook Setup Instructions\n",
    "\n",
    "### 1. Install Python Packages\n"
   ]
  },
  {
   "cell_type": "code",
   "execution_count": null,
   "id": "360b0379-7df8-4e67-bf82-69d2bb358d93",
   "metadata": {},
   "outputs": [],
   "source": [
    "%pip install ipython-sql\n",
    "%pip install sqlalchemy\n",
    "%pip install prettytable==3.11.0"
   ]
  },
  {
   "cell_type": "markdown",
   "id": "6f1ecf9c-ed62-4303-8030-ba723d47dc1f",
   "metadata": {},
   "source": [
    "### 2. Load SQL extension for Jupyter"
   ]
  },
  {
   "cell_type": "code",
   "execution_count": null,
   "id": "a3e9f8af-6fbd-431f-aa4c-be49ce5fda45",
   "metadata": {},
   "outputs": [],
   "source": [
    "%load_ext sql"
   ]
  },
  {
   "cell_type": "markdown",
   "id": "cab3c394-edaa-4f6b-a48f-c3c86326e772",
   "metadata": {},
   "source": [
    "### 3. Open the `simplefolks.db` SQLite database"
   ]
  },
  {
   "cell_type": "code",
   "execution_count": null,
   "id": "ce9f43af-2dbd-4425-bfa8-bd2434861c2c",
   "metadata": {},
   "outputs": [],
   "source": [
    "%sql sqlite:///data/simplefolks.db"
   ]
  },
  {
   "cell_type": "markdown",
   "id": "b7fcd957-424b-446b-8f4e-ca2bcc0e2e73",
   "metadata": {},
   "source": [
    "### 4. List the names of all tables in the database"
   ]
  },
  {
   "cell_type": "code",
   "execution_count": null,
   "id": "de7403d2-f46f-4677-b049-9a48934a65e8",
   "metadata": {},
   "outputs": [],
   "source": [
    "%sql SELECT name FROM sqlite_master;"
   ]
  },
  {
   "cell_type": "markdown",
   "id": "57d8c882-f86c-4460-9b70-63d6e36335d1",
   "metadata": {},
   "source": [
    "### 5. List tables with schema CREATE statements"
   ]
  },
  {
   "cell_type": "code",
   "execution_count": null,
   "id": "e373b297-5ffd-4b13-a163-6b004fa5ae08",
   "metadata": {},
   "outputs": [],
   "source": [
    "%sql SELECT * FROM sqlite_master;"
   ]
  },
  {
   "cell_type": "markdown",
   "id": "a89a37bd-89d7-423d-b51c-f506c666258b",
   "metadata": {},
   "source": [
    "---\n",
    "\n",
    "## SQLite Browser Setup Instructions\n",
    "\n",
    "### 1. Install SQLite Browser\n",
    "\n",
    "**SQLite Browser** is a free, open-source tool that allows you to create, design, and edit SQLite database files.\n",
    "\n",
    "- **For Windows:**\n",
    "  - Download the [Standard installer for 64-bit Windows](https://download.sqlitebrowser.org/DB.Browser.for.SQLite-v3.13.1-win64.msi) from the [SQLite Browser Download Page](https://sqlitebrowser.org/dl/).\n",
    "  - Run the installer and follow the on-screen instructions.\n",
    "\n",
    "- **For macOS:**\n",
    "  - Download the `.dmg` file called [DB Browser for SQLite (Universal)](https://download.sqlitebrowser.org/DB.Browser.for.SQLite-v3.13.1.dmg) from the [SQLite Browser Download Page](https://sqlitebrowser.org/dl/).\n",
    "  - Open the `.dmg` file and drag the app to your Applications folder.\n",
    "    *Or*\n",
    "  - Install via Homebrew:\n",
    "    ```bash\n",
    "    brew install --cask db-browser-for-sqlite\n",
    "    ```\n",
    "\n",
    "- **For Linux:**\n",
    "  - Install via your package manager. For example, on Ubuntu:\n",
    "    ```bash\n",
    "    sudo apt-get install sqlitebrowser\n",
    "    ```\n",
    "\n",
    "### 2. Open the Database in SQLite Browser\n",
    "\n",
    "- Launch **SQLite Browser**.\n",
    "- Go to `File` > `Open Database`.\n",
    "- Navigate to where you downloaded the SQLite database files `simplefolks.db` and `northwind.db` and open it.\n",
    "\n",
    "---\n"
   ]
  },
  {
   "cell_type": "code",
   "execution_count": null,
   "id": "1548534c-c1b7-498a-92d2-a7c9098f9a13",
   "metadata": {},
   "outputs": [],
   "source": []
  }
 ],
 "metadata": {
  "kernelspec": {
   "display_name": "Python 3 (ipykernel)",
   "language": "python",
   "name": "python3"
  },
  "language_info": {
   "codemirror_mode": {
    "name": "ipython",
    "version": 3
   },
   "file_extension": ".py",
   "mimetype": "text/x-python",
   "name": "python",
   "nbconvert_exporter": "python",
   "pygments_lexer": "ipython3",
   "version": "3.12.7"
  }
 },
 "nbformat": 4,
 "nbformat_minor": 5
}
