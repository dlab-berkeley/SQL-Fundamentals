{
 "cells": [
  {
   "cell_type": "markdown",
   "id": "6d9b77b7-650a-44c5-a5f6-f89a8fafbc5f",
   "metadata": {},
   "source": [
    "# SQLite in Python: Intro & Setup\n",
    "\n",
    "* * * \n",
    "\n",
    "<div class=\"alert alert-success\">  \n",
    "    \n",
    "### Learning Objectives \n",
    "\n",
    "* Navigate and understand the structure of a relational database.\n",
    "* Become familiar with relational database concepts.\n",
    "* Setting up SQLite in Jupyter\n",
    "* Setting up SQLite in browser\n",
    "* Converting a spreadsheet to SQLite\n",
    "</div>\n",
    "\n",
    "### Icons Used in This Notebook\n",
    "🔔 **Question**: A quick question to help you understand what's going on.<br>\n",
    "💡 **Tip**: How to do something a bit more efficiently or effectively.<br>\n",
    "📝 **Poll:** A Zoom poll to check in with you.<br>\n",
    "\n",
    "### Sections\n",
    "1. [This workshop](#this)\n",
    "2. [What is SQL?](#what)\n",
    "3. [Why SQLite?](#why)\n",
    "4. [SQLite Jupyter Notebook Setup](#setup)\n",
    "5. [SQLite Browser Setup](#browser)\n",
    "6. [Converting a Spreadsheet to SQLite](#convert)"
   ]
  },
  {
   "cell_type": "markdown",
   "id": "9ce7639d-2285-4b26-a5bf-972169372175",
   "metadata": {},
   "source": [
    "<a id='this'></a>\n",
    "\n",
    "# This workshop\n",
    "\n",
    "This workshop introduces the fundamentals of SQL, with a focus on using SQLite (the most ubiquitous database on the planet) for data science tasks. We'll explore how SQL can be used to query and manipulate relational databases. This hands-on workshop includes exercises based on real-world datasets.\n"
   ]
  },
  {
   "cell_type": "markdown",
   "id": "98b3152f-8322-4dbc-bd4c-d4f1f7d59525",
   "metadata": {},
   "source": [
    "<a id='what'></a>\n",
    "\n",
    "# What is SQL?\n",
    "\n",
    "Imagine you have a large spreadsheet filled with **thousands of rows of data**. It quickly becomes overwhelming to find exactly what you’re looking for, update details, or combine information from different sheets. \n",
    "\n",
    "**SQL (Structured Query Language)** solves this problem. It’s like having a conversation with your data. You ask clear, structured questions, and your data gives precise answers. SQL lets you quickly organize, filter, and analyze large amounts of data without the hassle of scrolling through endless rows.\n",
    "\n",
    "SQL is a **standard programming language** used to manage, query, and interact with databases. It allows you to perform tasks such as:\n",
    "\n",
    "* Storing data: Create and populate tables.\n",
    "* Querying data: Retrieve information based on specific conditions.\n",
    "* Manipulating data: Insert, update, or delete records.\n",
    "* Analyzing data: Summarize, aggregate, and join tables to extract insights.\n",
    "\n",
    "SQL makes working with structured data efficient and organized.\n",
    "\n",
    "Common SQL operations include:\n",
    "* SELECT: Retrieve data from tables\n",
    "* INSERT: Add new data\n",
    "* UPDATE: Modify existing data\n",
    "* DELETE: Remove data\n",
    "* JOIN: Combine data from multiple tables\n"
   ]
  },
  {
   "cell_type": "markdown",
   "id": "7ca29a25-f696-4c76-8f0e-72ed98f67ebc",
   "metadata": {},
   "source": [
    "<a id='why'></a>\n",
    "\n",
    "# Why SQLite?\n",
    "\n",
    "SQLite is a lightweight, open-source database system ideal for learning, prototyping, and small- to medium-sized applications. It’s a popular choice for data science workshops because:\n",
    "* Self-contained: Requires no server or complex setup.\n",
    "* Zero-configuration: Easy to install and use immediately.\n",
    "* Portable: Stores data in a single file, easily shareable.\n",
    "* Widely used: Powers many applications and devices (browsers, mobile apps, etc.).\n",
    "* Great for learning: Simple, intuitive, and fast—perfect for beginners and teaching.\n",
    "\n",
    "SQLite enables you to quickly apply SQL in a hands-on environment without the overhead of heavier database systems."
   ]
  },
  {
   "cell_type": "markdown",
   "id": "193c6046-ab41-49bd-a052-0fa88e94d8ee",
   "metadata": {},
   "source": [
    "<a id='setup'></a>\n",
    "\n",
    "# SQLite Jupyter Notebook Setup\n",
    "\n",
    "### 1. Install Python Packages"
   ]
  },
  {
   "cell_type": "code",
   "execution_count": null,
   "id": "360b0379-7df8-4e67-bf82-69d2bb358d93",
   "metadata": {},
   "outputs": [],
   "source": [
    "%pip install ipython-sql\n",
    "%pip install sqlalchemy\n",
    "%pip install prettytable==3.11.0"
   ]
  },
  {
   "cell_type": "markdown",
   "id": "6f1ecf9c-ed62-4303-8030-ba723d47dc1f",
   "metadata": {},
   "source": [
    "### 2. Load SQL extension for Jupyter"
   ]
  },
  {
   "cell_type": "code",
   "execution_count": null,
   "id": "a3e9f8af-6fbd-431f-aa4c-be49ce5fda45",
   "metadata": {},
   "outputs": [],
   "source": [
    "%load_ext sql"
   ]
  },
  {
   "cell_type": "markdown",
   "id": "cab3c394-edaa-4f6b-a48f-c3c86326e772",
   "metadata": {},
   "source": [
    "### 3. Open the `simplefolks.db` SQLite database"
   ]
  },
  {
   "cell_type": "code",
   "execution_count": null,
   "id": "ce9f43af-2dbd-4425-bfa8-bd2434861c2c",
   "metadata": {},
   "outputs": [],
   "source": [
    "%sql sqlite:///data/simplefolks.db"
   ]
  },
  {
   "cell_type": "markdown",
   "id": "b7fcd957-424b-446b-8f4e-ca2bcc0e2e73",
   "metadata": {},
   "source": [
    "### 4. List the names of all tables in the database"
   ]
  },
  {
   "cell_type": "code",
   "execution_count": null,
   "id": "de7403d2-f46f-4677-b049-9a48934a65e8",
   "metadata": {},
   "outputs": [],
   "source": [
    "%sql SELECT name FROM sqlite_master;"
   ]
  },
  {
   "cell_type": "markdown",
   "id": "57d8c882-f86c-4460-9b70-63d6e36335d1",
   "metadata": {},
   "source": [
    "### 5. List tables with schema CREATE statements"
   ]
  },
  {
   "cell_type": "code",
   "execution_count": null,
   "id": "e373b297-5ffd-4b13-a163-6b004fa5ae08",
   "metadata": {},
   "outputs": [],
   "source": [
    "%sql SELECT * FROM sqlite_master;"
   ]
  },
  {
   "cell_type": "markdown",
   "id": "a89a37bd-89d7-423d-b51c-f506c666258b",
   "metadata": {},
   "source": [
    "<a id='browser'></a>\n",
    "\n",
    "# SQLite Browser Setup Instructions\n",
    "\n",
    "### 1. Install SQLite Browser\n",
    "\n",
    "**SQLite Browser** is a free, open-source tool that allows you to create, design, and edit SQLite database files.\n",
    "\n",
    "- **For Windows:**\n",
    "  - Download the [Standard installer for 64-bit Windows](https://download.sqlitebrowser.org/DB.Browser.for.SQLite-v3.13.1-win64.msi) from the [SQLite Browser Download Page](https://sqlitebrowser.org/dl/).\n",
    "  - Run the installer and follow the on-screen instructions.\n",
    "\n",
    "- **For macOS:**\n",
    "  - Download the `.dmg` file called [DB Browser for SQLite (Universal)](https://download.sqlitebrowser.org/DB.Browser.for.SQLite-v3.13.1.dmg) from the [SQLite Browser Download Page](https://sqlitebrowser.org/dl/).\n",
    "  - Open the `.dmg` file and drag the app to your Applications folder.\n",
    "    *Or*\n",
    "  - Install via Homebrew:\n",
    "    ```bash\n",
    "    brew install --cask db-browser-for-sqlite\n",
    "    ```\n",
    "\n",
    "- **For Linux:**\n",
    "  - Install via your package manager. For example, on Ubuntu:\n",
    "    ```bash\n",
    "    sudo apt-get install sqlitebrowser\n",
    "    ```\n",
    "\n",
    "### 2. Open the Database in SQLite Browser\n",
    "\n",
    "- Launch **SQLite Browser**.\n",
    "- Go to `File` > `Open Database`.\n",
    "- Navigate to where you downloaded the SQLite database files `simplefolks.db` and `northwind.db` and open it.\n",
    "\n",
    "---\n"
   ]
  },
  {
   "cell_type": "markdown",
   "id": "dc376eb2-7994-4989-89af-004400d72648",
   "metadata": {},
   "source": [
    "<a id='convert'></a>\n",
    "\n",
    "# Converting a Spreadsheet to SQLite\n",
    "Try converting an .xlsx Excel Spreadsheet (downloaded from Google Sheets) to a SQLite Database.\n",
    "\n",
    "Make sure `openpyxl` is installed."
   ]
  },
  {
   "cell_type": "code",
   "execution_count": null,
   "id": "7b8dff20-78cf-472a-b4d0-81c4c6d69886",
   "metadata": {},
   "outputs": [],
   "source": [
    "%pip install pandas openpyxl"
   ]
  },
  {
   "cell_type": "markdown",
   "id": "2dece4a7-e3b9-461d-bf2a-68fadf7a5aed",
   "metadata": {},
   "source": [
    "## 1. Download Google Sheet as Excel File\n",
    "\n",
    "- Open this [google sheet](https://docs.google.com/spreadsheets/d/1OzM6Sp92cDG_jkO4_WGEacuD0rwYF_g2kHOIuq6NgZM/view).\n",
    "- Click **File > Download > Microsoft Excel (.xlsx)**\n",
    "- Save the file to the data folder"
   ]
  },
  {
   "cell_type": "markdown",
   "id": "e8750ea2-8bd7-4580-abf6-989510990660",
   "metadata": {},
   "source": [
    "## 2. Convert Excel to SQLite using openpyxl and Pandas\n",
    "[openpyxl](https://openpyxl.readthedocs.io/en/stable/) is a Python library designed for reading and writing Excel 2010 files (with extensions .xlsx, .xlsm, .xltx, .xltm). It enables Python programs to interact with Excel files, allowing for the creation, modification, and extraction of data.\n",
    "\n",
    "In the context of converting an Excel spreadsheet with multiple worksheets into a SQLite database, openpyxl is particularly useful for:\n",
    " - **Reading Excel Files:** It facilitates the loading of Excel workbooks and accessing individual sheets, enabling the extraction of data from each worksheet.\n",
    " - **Data Manipulation:** By integrating with libraries like pandas, openpyxl allows for the conversion of worksheet data into DataFrames, which can then be processed and stored in a SQLite database. ￼\n",
    "\n",
    "By utilizing openpyxl in conjunction with pandas, you can efficiently read data from each worksheet of an Excel file and transfer it into corresponding tables within a SQLite database, with appropriate data type inference."
   ]
  },
  {
   "cell_type": "code",
   "execution_count": null,
   "id": "28c8e145-72a8-48e5-ad64-b56c623db387",
   "metadata": {},
   "outputs": [],
   "source": [
    "import pandas as pd\n",
    "import sqlite3\n",
    "\n",
    "# Path to your Excel file\n",
    "excel_file = 'data/simplefolks.xlsx'\n",
    "\n",
    "# Connect to the SQLite database (or create it if it doesn't exist)\n",
    "conn = sqlite3.connect('data/sheet2simplefolks.db')\n",
    "\n",
    "# Read all sheets into a dictionary of DataFrames\n",
    "sheets = pd.read_excel(excel_file, sheet_name=None, engine='openpyxl')\n",
    "\n",
    "# Iterate over the dictionary and write each DataFrame to a SQLite table\n",
    "for sheet_name, df in sheets.items():\n",
    "    df.to_sql(sheet_name, conn, if_exists='replace', index=False)\n",
    "\n",
    "# Close the database connection\n",
    "conn.close()\n",
    "\n",
    "print(\"All sheets have been successfully converted to SQLite tables.\")"
   ]
  },
  {
   "cell_type": "code",
   "execution_count": null,
   "id": "ec65e1b2-f880-4962-aa0e-0fda795a0988",
   "metadata": {},
   "outputs": [],
   "source": [
    "%sql sqlite:///data/sheet2simplefolks.db"
   ]
  },
  {
   "cell_type": "code",
   "execution_count": null,
   "id": "fabc752a-fecc-4a52-9ae0-24c53e67c904",
   "metadata": {},
   "outputs": [],
   "source": [
    "%sql SELECT * FROM sqlite_master;"
   ]
  },
  {
   "cell_type": "markdown",
   "id": "0bf7ee4e-fbbe-453e-8015-8380f3874602",
   "metadata": {},
   "source": [
    "## Optional: SQLite from the Command Line\n",
    "The SQLite project provides a simple command-line program named sqlite3 (or sqlite3.exe on Windows) that allows the user to manually enter and execute SQL statements against an SQLite database or against a ZIP archive. This document provides a brief introduction on how to use the sqlite3 program.\n",
    "\n",
    "Start the sqlite3 program by typing \"sqlite3\" at the command prompt, optionally followed by the name of the file that holds the SQLite database (or ZIP archive). If the named file does not exist, a new database file with the given name will be created automatically. If no database file is specified on the command-line, a temporary database is created and automatically deleted when the \"sqlite3\" program exits.\n",
    "\n",
    "Read more here: https://www.sqlite.org/cli.html</details>"
   ]
  },
  {
   "cell_type": "code",
   "execution_count": null,
   "id": "ffb47489-fa52-4d70-b096-da9264d815d8",
   "metadata": {},
   "outputs": [],
   "source": [
    "!echo .tables | sqlite3 data/sheet2simplefolks.db"
   ]
  }
 ],
 "metadata": {
  "kernelspec": {
   "display_name": "Python 3 (ipykernel)",
   "language": "python",
   "name": "python3"
  },
  "language_info": {
   "codemirror_mode": {
    "name": "ipython",
    "version": 3
   },
   "file_extension": ".py",
   "mimetype": "text/x-python",
   "name": "python",
   "nbconvert_exporter": "python",
   "pygments_lexer": "ipython3",
   "version": "3.11.7"
  }
 },
 "nbformat": 4,
 "nbformat_minor": 5
}
